{
 "cells": [
  {
   "cell_type": "code",
   "execution_count": 2,
   "id": "bc0dc7ef-5ed4-4fd3-88c8-7afb50a5c18a",
   "metadata": {},
   "outputs": [
    {
     "name": "stdin",
     "output_type": "stream",
     "text": [
      "Enter your Percentage 52\n"
     ]
    },
    {
     "name": "stdout",
     "output_type": "stream",
     "text": [
      "You got grade D\n"
     ]
    }
   ],
   "source": [
    "#1. Write a program to accept percentage from the user and display the grade according to the following\n",
    "\n",
    "Percentage = int(input(\"Enter your Percentage\"))\n",
    "if (Percentage > 90):\n",
    "    print(\"You got grade A\")\n",
    "elif (Percentage > 80):\n",
    "    print(\"You got grade B\")\n",
    "elif (Percentage >= 60):\n",
    "    print(\"You got grade C\")\n",
    "else:\n",
    "    print(\"You got grade D\")"
   ]
  },
  {
   "cell_type": "code",
   "execution_count": 5,
   "id": "85002456-d418-4429-a8bd-2b1800509d32",
   "metadata": {},
   "outputs": [
    {
     "name": "stdin",
     "output_type": "stream",
     "text": [
      "Enter the cost price 1500000\n"
     ]
    },
    {
     "name": "stdout",
     "output_type": "stream",
     "text": [
      "15%\n"
     ]
    }
   ],
   "source": [
    "#2. Write a program to accept the cost price of a bike and display the road tax to be paid according to the  Following criteria\n",
    "\n",
    "cost_price=int(input(\"Enter the cost price\"))\n",
    "if cost_price>100000:\n",
    "    print(\"15%\")\n",
    "elif cost_price>50000 and cost_price<=100000:\n",
    "    print(\"10%\")\n",
    "elif cost_price<=50000:\n",
    "    print(\"5%\")"
   ]
  },
  {
   "cell_type": "code",
   "execution_count": 7,
   "id": "d67bb591-d767-4e9a-b0c6-a8707fcff66e",
   "metadata": {},
   "outputs": [
    {
     "name": "stdin",
     "output_type": "stream",
     "text": [
      "Enter the City name Delhi\n"
     ]
    },
    {
     "name": "stdout",
     "output_type": "stream",
     "text": [
      "Red Fort\n"
     ]
    }
   ],
   "source": [
    "#3. Accept any city from the user and display monuments of that city\n",
    "city=str(input(\"Enter the City name\"))\n",
    "if city==\"Delhi\":\n",
    "    print(\"Red Fort\")\n",
    "elif city==\"Agra\":\n",
    "    print(\"Taj Mahal\")\n",
    "elif city==\"Jaipur\":\n",
    "    print(\"Jal Mahal\")"
   ]
  },
  {
   "cell_type": "code",
   "execution_count": 8,
   "id": "5ecf8bbc-457a-4571-a4a8-33ae306ef0fb",
   "metadata": {},
   "outputs": [
    {
     "name": "stdin",
     "output_type": "stream",
     "text": [
      "Enter a number:  6\n"
     ]
    },
    {
     "name": "stdout",
     "output_type": "stream",
     "text": [
      "The given number can be divided by 3 0 times before it is equal to or less than 10.\n"
     ]
    }
   ],
   "source": [
    "#4. Check how many times a given number can be divided by 3 before it is less than or equal to 10\n",
    "number = int(input(\"Enter a number: \"))\n",
    "count = 0\n",
    "\n",
    "while number >= 10:\n",
    "    number /= 3\n",
    "    count += 1\n",
    "\n",
    "print(\"The given number can be divided by 3\", count, \"times before it is equal to or less than 10.\")\n"
   ]
  },
  {
   "cell_type": "code",
   "execution_count": 13,
   "id": "8824b296-3287-4f9a-9f7d-81d1ad4bc569",
   "metadata": {},
   "outputs": [
    {
     "name": "stdin",
     "output_type": "stream",
     "text": [
      "Enter a positive integer:  8\n",
      "Enter a number to add to the list:  7\n",
      "Enter a number to add to the list:  7\n",
      "Enter a number to add to the list:  4\n",
      "Enter a number to add to the list:  5\n",
      "Enter a number to add to the list:  7\n",
      "Enter a number to add to the list:  5\n",
      "Enter a number to add to the list:  41466\n"
     ]
    },
    {
     "name": "stdout",
     "output_type": "stream",
     "text": [
      "The sum of the numbers is greater than 100.\n",
      "5\n",
      "4\n",
      "3\n",
      "2\n",
      "1\n",
      "The list is now empty.\n"
     ]
    }
   ],
   "source": [
    "#5. why and when to Usa while Loop in Python give a detailed description with example\n",
    "#A while loop in Python is a type of loop that allows you to repeatedly execute a block of code as long as a certain condition is true. The syntax of a while loop in Python is as follows:\n",
    "    \n",
    "   # while condition:\n",
    "    # block of code to execute while the condition is true\n",
    "#The condition is a boolean expression that is evaluated at the beginning of each iteration of the loop. If the condition is true, the block of code inside the loop is executed, and then the condition is re-evaluated. This process continues until the condition becomes false, at which point the loop terminates.\n",
    "\n",
    "#Here are some situations where you might use a while loop in Python:\n",
    "\n",
    "#1. When you don't know how many times you need to iterate: If you need to repeatedly execute a block of code, but you don't know how many times you need to do it, a while loop is a good choice. For example, if you are reading input from a user and you want to keep asking for input until they provide a valid value, you can use a while loop.\n",
    "valid_input = False\n",
    "\n",
    "while not valid_input:\n",
    "    user_input = input(\"Enter a positive integer: \")\n",
    "    if user_input.isdigit() and int(user_input) > 0:\n",
    "        valid_input = True\n",
    "    else:\n",
    "        print(\"Invalid input. Please enter a positive integer.\")\n",
    "        \n",
    "#2. When you want to iterate until a certain condition is met: If you want to repeatedly execute a block of code until a certain condition is met, a while loop is a good choice. For example, if you want to keep adding numbers to a list until the sum is greater than 100, you can use a while loop.\n",
    "numbers = []\n",
    "total = 0\n",
    "\n",
    "while total < 100:\n",
    "    user_input = int(input(\"Enter a number to add to the list: \"))\n",
    "    numbers.append(user_input)\n",
    "    total += user_input\n",
    "\n",
    "print(\"The sum of the numbers is greater than 100.\")\n",
    "# When you want to repeatedly execute a block of code based on a condition: If you want to repeatedly execute a block of code based on a condition, a while loop is a good choice. For example, if you want to keep removing items from a list until the list is empty, you can use a while loop.\n",
    "my_list = [1, 2, 3, 4, 5]\n",
    "\n",
    "while len(my_list) > 0:\n",
    "    item = my_list.pop()\n",
    "    print(item)\n",
    "\n",
    "print(\"The list is now empty.\")\n",
    "#In general, a while loop is a good choice when you want to repeatedly execute a block of code as long as a certain condition is true. However, you should be careful to make sure that the condition will eventually become false, otherwise your loop could run indefinitely (also called an infinite loop), which could cause your program to crash or hang."
   ]
  },
  {
   "cell_type": "code",
   "execution_count": 18,
   "id": "62046929-b27f-4da9-b046-5a648cf8345b",
   "metadata": {},
   "outputs": [
    {
     "name": "stdin",
     "output_type": "stream",
     "text": [
      "Enter number of rows :  5\n"
     ]
    },
    {
     "name": "stdout",
     "output_type": "stream",
     "text": [
      "* \n",
      "* * \n",
      "* * * \n",
      "* * * * \n",
      "* * * * * \n",
      "\n",
      "2nd\n",
      "\n",
      "* * * * * \n",
      "* * * * \n",
      "* * * \n",
      "* * \n",
      "* \n",
      "\n",
      "3rd\n",
      "\n",
      "        * \n",
      "      * * \n",
      "    * * * \n",
      "  * * * * \n",
      "* * * * * \n",
      "  * * * * \n",
      "    * * * \n",
      "      * * \n",
      "        * \n",
      "          \n"
     ]
    }
   ],
   "source": [
    "#6. Use nested while loop to print 3 different pattern\n",
    "\n",
    "\n",
    "n = int(input('Enter number of rows : '))\n",
    " \n",
    "i = 1\n",
    "while i <= n :\n",
    "    j = 1\n",
    "    while j <= i:\n",
    "        print(\"*\", end = \" \")\n",
    "        j += 1\n",
    "    print()\n",
    "    i += 1\n",
    "    \n",
    "    \n",
    "print('\\n2nd\\n')\n",
    "#n = int(input('Enter number of rows : '))\n",
    " \n",
    "i = 1\n",
    "while i <= n :\n",
    "    j = n\n",
    "    while j >= i:\n",
    "        print(\"*\", end = \" \")\n",
    "        j -= 1\n",
    "    print()\n",
    "    i += 1\n",
    "\n",
    "print('\\n3rd\\n')\n",
    "\n",
    "i = 1\n",
    "while i <= n:\n",
    "    j = i\n",
    "    while j < n:\n",
    "        # display space\n",
    "        print(' ', end=' ')\n",
    "        j += 1\n",
    "    k = 1\n",
    "    while k <= i:\n",
    "        print('*', end=' ')\n",
    "        k += 1\n",
    "    print()\n",
    "    i += 1\n",
    "\n",
    "i = n\n",
    "while i >= 1:\n",
    "    j = i\n",
    "    while j <= n:\n",
    "        print(' ', end=' ')\n",
    "        j += 1\n",
    "    k = 1\n",
    "    while k < i:\n",
    "        print('*', end=' ')\n",
    "        k += 1\n",
    "    print('')\n",
    "    i -= 1\n"
   ]
  },
  {
   "cell_type": "code",
   "execution_count": null,
   "id": "e215b030-ab42-4610-aea9-af153ff40b9c",
   "metadata": {},
   "outputs": [],
   "source": [
    "#7. Reverse a while loop to display numbers from 10 to 1.\n"
   ]
  }
 ],
 "metadata": {
  "kernelspec": {
   "display_name": "Python 3 (ipykernel)",
   "language": "python",
   "name": "python3"
  },
  "language_info": {
   "codemirror_mode": {
    "name": "ipython",
    "version": 3
   },
   "file_extension": ".py",
   "mimetype": "text/x-python",
   "name": "python",
   "nbconvert_exporter": "python",
   "pygments_lexer": "ipython3",
   "version": "3.10.8"
  }
 },
 "nbformat": 4,
 "nbformat_minor": 5
}
