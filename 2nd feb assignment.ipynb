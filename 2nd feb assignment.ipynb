{
 "cells": [
  {
   "cell_type": "markdown",
   "id": "0c850963-ba63-424b-9a9f-5592dd1496da",
   "metadata": {},
   "source": [
    "# Q1.  Explain with an example each when to use a for loop and a while loop. \n",
    "ANS : A for loop is generally used when the number of iterations is known beforehand. It's commonly used to iterate through a collection of elements such as an array, a list, or a tuple.\n",
    "\n",
    "For example, consider the following code snippet that uses a for loop to iterate through a list of numbers and print each number:\n",
    "\n",
    "numbers = [1, 2, 3, 4, 5]\n",
    "\n",
    "for number in numbers:\n",
    "    print(number)\n",
    "In this case, we know that there are five elements in the list, so we can use a for loop to iterate through each element and print it.\n",
    "\n",
    "A while loop, on the other hand, is used when the number of iterations is not known beforehand or when a certain condition needs to be satisfied before the loop can terminate.\n",
    "\n",
    "For example, consider the following code snippet that uses a while loop to keep asking the user to enter a number until they enter a valid integer:\n",
    "\n",
    "while True:\n",
    "    try:\n",
    "        num = int(input(\"Please enter a number: \"))\n",
    "        break\n",
    "    except ValueError:\n",
    "        print(\"Invalid input. Please try again.\")\n",
    "In this case, we don't know how many times the user will enter an invalid input, so we use a while loop to keep asking them to enter a number until they enter a valid integer. The loop will terminate when the user enters a valid integer, and the program will continue to execute the next line of code after the loop.\n"
   ]
  },
  {
   "cell_type": "code",
   "execution_count": 2,
   "id": "fe70b299-aef4-4822-b1b0-a5ff40ccb87d",
   "metadata": {},
   "outputs": [
    {
     "name": "stdout",
     "output_type": "stream",
     "text": [
      "Sum of first 10 natural numbers: 55\n",
      "Product of first 10 natural numbers: 3628800\n",
      "Sum of first 10 natural numbers: 55\n",
      "Product of first 10 natural numbers: 3628800\n"
     ]
    }
   ],
   "source": [
    "#Q2.  Write a python program to print the sum and product of the first 10 natural numbers using for  and while loop. \n",
    "#ANS : USING FOR LOOP\n",
    "# initialize variables\n",
    "sum = 0\n",
    "product = 1\n",
    "\n",
    "# iterate through the first 10 natural numbers using a for loop\n",
    "for i in range(1, 11):\n",
    "    # calculate the sum\n",
    "    sum += i\n",
    "    \n",
    "    # calculate the product\n",
    "    product *= i\n",
    "\n",
    "# print the sum and product\n",
    "print(\"Sum of first 10 natural numbers:\", sum)\n",
    "print(\"Product of first 10 natural numbers:\", product)\n",
    "\n",
    "#Using While loop\n",
    "# initialize variables\n",
    "i = 1\n",
    "sum = 0\n",
    "product = 1\n",
    "\n",
    "# iterate through the first 10 natural numbers using a while loop\n",
    "while i <= 10:\n",
    "    # calculate the sum\n",
    "    sum += i\n",
    "    \n",
    "    # calculate the product\n",
    "    product *= i\n",
    "    \n",
    "    # increment the counter\n",
    "    i += 1\n",
    "\n",
    "# print the sum and product\n",
    "print(\"Sum of first 10 natural numbers:\", sum)\n",
    "print(\"Product of first 10 natural numbers:\", product)\n",
    "\n"
   ]
  },
  {
   "cell_type": "code",
   "execution_count": 3,
   "id": "9313ceef-a434-4802-a480-5092caebcaca",
   "metadata": {},
   "outputs": [
    {
     "name": "stdin",
     "output_type": "stream",
     "text": [
      "Enter the number of units consumed:  310\n"
     ]
    },
    {
     "name": "stdout",
     "output_type": "stream",
     "text": [
      "Total electricity bill: 2250.0\n"
     ]
    }
   ],
   "source": [
    "# Create a python program to compute the electricity bill for a household. \n",
    "# The per-unit charges in rupees are as follows: For the first 100 units, the user will be charged Rs. 4.5 per  unit, for the next 100 units, the user will be charged Rs. 6 per unit, and for the next 100 units, the user will  be charged Rs. 10 per unit, After 300 units and above the user will be charged Rs. 20 per unit. \n",
    "# You are required to take the units of electricity consumed in a month from the user as input. \n",
    "# Your program must pass this test case: when the unit of electricity consumed by the user in a month is  310, the total electricity bill should be 2250. \n",
    "#ANS : \n",
    "# take the units of electricity consumed in a month as input from the user\n",
    "units = int(input(\"Enter the number of units consumed: \"))\n",
    "\n",
    "# calculate the electricity bill based on the per-unit charges\n",
    "if units <= 100:\n",
    "    bill = units * 4.5\n",
    "elif units <= 200:\n",
    "    bill = 100 * 4.5 + (units - 100) * 6\n",
    "elif units <= 300:\n",
    "    bill = 100 * 4.5 + 100 * 6 + (units - 200) * 10\n",
    "else:\n",
    "    bill = 100 * 4.5 + 100 * 6 + 100 * 10 + (units - 300) * 20\n",
    "\n",
    "# print the total electricity bill\n",
    "print(\"Total electricity bill:\", bill)\n"
   ]
  },
  {
   "cell_type": "code",
   "execution_count": 4,
   "id": "4e095275-2d69-42ec-a021-87e9089fce5f",
   "metadata": {},
   "outputs": [
    {
     "name": "stdout",
     "output_type": "stream",
     "text": [
      "[2, 4, 5, 6, 8, 10, 12, 14, 15, 16, 18, 20, 22, 24, 25, 26, 28, 30, 32, 34, 35, 36, 38, 40, 42, 44, 45, 46, 48, 50, 52, 54, 55, 56, 58, 60, 62, 64, 65, 66, 68, 70, 72, 74, 75, 76, 78, 80, 82, 84, 85, 86, 88, 90, 92, 94, 95, 96, 98, 100]\n",
      "[2, 4, 5, 6, 8, 10, 12, 14, 15, 16, 18, 20, 22, 24, 25, 26, 28, 30, 32, 34, 35, 36, 38, 40, 42, 44, 45, 46, 48, 50, 52, 54, 55, 56, 58, 60, 62, 64, 65, 66, 68, 70, 72, 74, 75, 76, 78, 80, 82, 84, 85, 86, 88, 90, 92, 94, 95, 96, 98, 100]\n"
     ]
    }
   ],
   "source": [
    "#Q4. Create a list of numbers from 1 to 100. Use for loop and while loop to calculate the cube of each  number and if the cube of that number is divisible by 4 or 5 then append that number in a list and print  that list. \n",
    "# Using For Loop\n",
    "# create a list of numbers from 1 to 100\n",
    "numbers = list(range(1, 101))\n",
    "\n",
    "# initialize an empty list to store the numbers whose cubes are divisible by 4 or 5\n",
    "result = []\n",
    "\n",
    "# iterate through the numbers using a for loop\n",
    "for num in numbers:\n",
    "    # calculate the cube of the number\n",
    "    cube = num ** 3\n",
    "    \n",
    "    # check if the cube is divisible by 4 or 5\n",
    "    if cube % 4 == 0 or cube % 5 == 0:\n",
    "        # append the number to the result list\n",
    "        result.append(num)\n",
    "\n",
    "# print the result list\n",
    "print(result)\n",
    "\n",
    "\n",
    "# Using while loop\n",
    "\n",
    "# create a list of numbers from 1 to 100\n",
    "numbers = list(range(1, 101))\n",
    "\n",
    "# initialize an empty list to store the numbers whose cubes are divisible by 4 or 5\n",
    "result = []\n",
    "\n",
    "# initialize a counter variable\n",
    "i = 0\n",
    "\n",
    "# iterate through the numbers using a while loop\n",
    "while i < len(numbers):\n",
    "    # calculate the cube of the number\n",
    "    cube = numbers[i] ** 3\n",
    "    \n",
    "    # check if the cube is divisible by 4 or 5\n",
    "    if cube % 4 == 0 or cube % 5 == 0:\n",
    "        # append the number to the result list\n",
    "        result.append(numbers[i])\n",
    "    \n",
    "    # increment the counter\n",
    "    i += 1\n",
    "\n",
    "# print the result list\n",
    "print(result)\n",
    "\n",
    "\n",
    "\n",
    "\n"
   ]
  },
  {
   "cell_type": "code",
   "execution_count": null,
   "id": "bc09e307-7bb7-4f43-9055-9cec1230fa91",
   "metadata": {},
   "outputs": [],
   "source": [
    "# Q5.  Write a program to filter count vowels in the below-given string. \n",
    "# string = \"I want to become a data scientist\" \n"
   ]
  }
 ],
 "metadata": {
  "kernelspec": {
   "display_name": "Python 3 (ipykernel)",
   "language": "python",
   "name": "python3"
  },
  "language_info": {
   "codemirror_mode": {
    "name": "ipython",
    "version": 3
   },
   "file_extension": ".py",
   "mimetype": "text/x-python",
   "name": "python",
   "nbconvert_exporter": "python",
   "pygments_lexer": "ipython3",
   "version": "3.10.8"
  }
 },
 "nbformat": 4,
 "nbformat_minor": 5
}
